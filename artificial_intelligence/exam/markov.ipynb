{
 "cells": [
  {
   "cell_type": "code",
   "execution_count": 3,
   "metadata": {},
   "outputs": [
    {
     "name": "stdout",
     "output_type": "stream",
     "text": [
      "[0.4 0.5 0.1]\n",
      "[0.35 0.44 0.21]\n",
      "[0.356 0.435 0.209]\n",
      "[0.3565 0.4356 0.2079]\n",
      "[0.35644 0.43565 0.20791]\n"
     ]
    }
   ],
   "source": [
    "import numpy as np\n",
    "\n",
    "T = np.array([\n",
    "    [0.4, 0.5, 0.1],  # H -> H, P, S\n",
    "    [0.3, 0.4, 0.3],  # P -> H, P, S\n",
    "    [0.4, 0.4, 0.2]   # S -> H, P, S\n",
    "])\n",
    "\n",
    "initial_distribution = np.array([1, 0, 0])\n",
    "\n",
    "for i in range(0, 5):\n",
    "    initial_distribution = np.dot(initial_distribution, T)\n",
    "    print(initial_distribution)\n",
    "\n"
   ]
  },
  {
   "cell_type": "code",
   "execution_count": 5,
   "metadata": {},
   "outputs": [
    {
     "data": {
      "text/plain": [
       "array([0.3565, 0.4356, 0.2079])"
      ]
     },
     "execution_count": 5,
     "metadata": {},
     "output_type": "execute_result"
    }
   ],
   "source": [
    "initial_state_H = np.array([1, 0, 0])\n",
    "    \n",
    "#iterate 5 times running the dot product each time.\n",
    "state_at_t5 = initial_state_H\n",
    "for i in range(4):\n",
    "    state_at_t5 = np.dot(state_at_t5, T)\n",
    "\n",
    "state_at_t5"
   ]
  },
  {
   "cell_type": "code",
   "execution_count": 10,
   "metadata": {},
   "outputs": [
    {
     "data": {
      "text/plain": [
       "array([0.35666667, 0.43666667, 0.20666667])"
      ]
     },
     "execution_count": 10,
     "metadata": {},
     "output_type": "execute_result"
    }
   ],
   "source": [
    "#transition matrix, just the transition probabilities between each site.\n",
    "T = np.array([\n",
    "    [0.4, 0.5, 0.1],  # h row\n",
    "    [0.3, 0.4, 0.3],  # p row\n",
    "    [0.4, 0.4, 0.2]   # s row\n",
    "])\n",
    "\n",
    "# Initial distribution, 1/3 for each site.\n",
    "initial_distribution = np.array([1/3, 1/3, 1/3])\n",
    "\n",
    "# first step\n",
    "initial_distribution = np.dot(initial_distribution, T)\n",
    "\n",
    "# second step\n",
    "initial_distribution = np.dot(initial_distribution, T)\n",
    "\n",
    "\n",
    "initial_distribution"
   ]
  },
  {
   "cell_type": "code",
   "execution_count": null,
   "metadata": {},
   "outputs": [],
   "source": []
  }
 ],
 "metadata": {
  "kernelspec": {
   "display_name": "Python 3",
   "language": "python",
   "name": "python3"
  },
  "language_info": {
   "codemirror_mode": {
    "name": "ipython",
    "version": 3
   },
   "file_extension": ".py",
   "mimetype": "text/x-python",
   "name": "python",
   "nbconvert_exporter": "python",
   "pygments_lexer": "ipython3",
   "version": "3.12.2"
  }
 },
 "nbformat": 4,
 "nbformat_minor": 2
}
