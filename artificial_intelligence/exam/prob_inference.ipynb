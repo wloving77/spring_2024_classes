{
 "cells": [
  {
   "cell_type": "code",
   "execution_count": 1,
   "metadata": {},
   "outputs": [
    {
     "data": {
      "text/plain": [
       "(Z\n",
       " 0    0.50000\n",
       " 1    0.50045\n",
       " Name: P(X,Y,Z), dtype: float64,\n",
       " Z\n",
       " 0    0.649351\n",
       " 1    0.350649\n",
       " Name: P(X,Y,Z), dtype: float64,\n",
       " Z\n",
       " 0    0.905624\n",
       " 1    0.094376\n",
       " Name: P(X,Y,Z), dtype: float64)"
      ]
     },
     "execution_count": 1,
     "metadata": {},
     "output_type": "execute_result"
    }
   ],
   "source": [
    "import pandas as pd\n",
    "\n",
    "# Joint probability table from the problem statement\n",
    "data = {\n",
    "    \"X\": [0, 1, 0, 1, 0, 0, 1, 0, 1],\n",
    "    \"Y\": [0, 0, 1, 1, 0, 0, 0, 1, 1],\n",
    "    \"Z\": [0, 0, 0, 0, 1, 1, 1, 1, 1],\n",
    "    \"P(X,Y,Z)\": [0.405, 0.045, 0.0025, 0.0475, 0.09, 0.36, 0.045, 0.0005, 0.00495]\n",
    "}\n",
    "\n",
    "df = pd.DataFrame(data)\n",
    "\n",
    "# a. Calculate the prior distribution P(Z)\n",
    "prior_Z = df.groupby('Z')['P(X,Y,Z)'].sum()\n",
    "\n",
    "# b. Calculate the conditional probability P(Z | X = 1)\n",
    "subset_X_equals_1 = df[df['X'] == 1]\n",
    "conditional_Z_given_X_equals_1 = subset_X_equals_1.groupby('Z')['P(X,Y,Z)'].sum() / subset_X_equals_1['P(X,Y,Z)'].sum()\n",
    "\n",
    "# c. Calculate the conditional probability P(Z | X = 1, Y = 1)\n",
    "subset_X_equals_1_Y_equals_1 = df[(df['X'] == 1) & (df['Y'] == 1)]\n",
    "conditional_Z_given_X_equals_1_Y_equals_1 = subset_X_equals_1_Y_equals_1.groupby('Z')['P(X,Y,Z)'].sum() / subset_X_equals_1_Y_equals_1['P(X,Y,Z)'].sum()\n",
    "\n",
    "prior_Z, conditional_Z_given_X_equals_1, conditional_Z_given_X_equals_1_Y_equals_1\n"
   ]
  },
  {
   "cell_type": "code",
   "execution_count": 15,
   "metadata": {},
   "outputs": [
    {
     "data": {
      "text/plain": [
       "Z\n",
       "0    0.649351\n",
       "1    0.350649\n",
       "Name: P(X,Y,Z), dtype: float64"
      ]
     },
     "execution_count": 15,
     "metadata": {},
     "output_type": "execute_result"
    }
   ],
   "source": [
    "data = {\n",
    "    \"X\": [0, 1, 0, 1, 0, 0, 1, 0, 1],\n",
    "    \"Y\": [0, 0, 1, 1, 0, 0, 0, 1, 1],\n",
    "    \"Z\": [0, 0, 0, 0, 1, 1, 1, 1, 1],\n",
    "    \"P(X,Y,Z)\": [0.405, 0.045, 0.0025, 0.0475, 0.09, 0.36, 0.045, 0.0005, 0.00495]\n",
    "}\n",
    "\n",
    "df = pd.DataFrame(data)\n",
    "\n",
    "\n",
    "subset_X_equals_1 = df[df['X']==1]\n",
    "subset_X_equals_1 = subset_X_equals_1.groupby('Z')['P(X,Y,Z)'].sum() / subset_X_equals_1['P(X,Y,Z)'].sum()\n",
    "subset_X_equals_1"
   ]
  },
  {
   "cell_type": "code",
   "execution_count": 18,
   "metadata": {},
   "outputs": [
    {
     "data": {
      "text/html": [
       "<div>\n",
       "<style scoped>\n",
       "    .dataframe tbody tr th:only-of-type {\n",
       "        vertical-align: middle;\n",
       "    }\n",
       "\n",
       "    .dataframe tbody tr th {\n",
       "        vertical-align: top;\n",
       "    }\n",
       "\n",
       "    .dataframe thead th {\n",
       "        text-align: right;\n",
       "    }\n",
       "</style>\n",
       "<table border=\"1\" class=\"dataframe\">\n",
       "  <thead>\n",
       "    <tr style=\"text-align: right;\">\n",
       "      <th></th>\n",
       "      <th>X</th>\n",
       "      <th>Y</th>\n",
       "      <th>Z</th>\n",
       "      <th>P(X,Y,Z)</th>\n",
       "    </tr>\n",
       "  </thead>\n",
       "  <tbody>\n",
       "    <tr>\n",
       "      <th>3</th>\n",
       "      <td>1</td>\n",
       "      <td>1</td>\n",
       "      <td>0</td>\n",
       "      <td>0.04750</td>\n",
       "    </tr>\n",
       "    <tr>\n",
       "      <th>8</th>\n",
       "      <td>1</td>\n",
       "      <td>1</td>\n",
       "      <td>1</td>\n",
       "      <td>0.00495</td>\n",
       "    </tr>\n",
       "  </tbody>\n",
       "</table>\n",
       "</div>"
      ],
      "text/plain": [
       "   X  Y  Z  P(X,Y,Z)\n",
       "3  1  1  0   0.04750\n",
       "8  1  1  1   0.00495"
      ]
     },
     "execution_count": 18,
     "metadata": {},
     "output_type": "execute_result"
    }
   ],
   "source": [
    "given_filter = (df['X'] == 1) & (df['Y'] == 1)\n",
    "\n",
    "subset_X_is_1_Y_is_1 = df[given_filter]\n",
    "\n",
    "p_Z_given_X_is_1_Y_is_1 = subset_X_is_1_Y_is_1.groupby(\"Z\")['P(X,Y,Z)'].sum() / subset_X_is_1_Y_is_1['P(X,Y,Z)'].sum()"
   ]
  },
  {
   "cell_type": "code",
   "execution_count": null,
   "metadata": {},
   "outputs": [],
   "source": []
  }
 ],
 "metadata": {
  "kernelspec": {
   "display_name": "Python 3",
   "language": "python",
   "name": "python3"
  },
  "language_info": {
   "codemirror_mode": {
    "name": "ipython",
    "version": 3
   },
   "file_extension": ".py",
   "mimetype": "text/x-python",
   "name": "python",
   "nbconvert_exporter": "python",
   "pygments_lexer": "ipython3",
   "version": "3.12.2"
  }
 },
 "nbformat": 4,
 "nbformat_minor": 2
}
