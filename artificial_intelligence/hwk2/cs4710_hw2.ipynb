{
  "cells": [
    {
      "cell_type": "markdown",
      "metadata": {
        "id": "GgJJ3gUsSw_W"
      },
      "source": [
        "# UVA CS 4710 HW2\n",
        "\n",
        "*Your compute ID & Name: [wfl9zy] [William Loving]*"
      ]
    },
    {
      "cell_type": "markdown",
      "metadata": {
        "id": "KmtuoxeaTddk"
      },
      "source": [
        "## Part 1: Implement Uninformed Search Algorithms\n",
        "\n",
        "Breadth-first and depth-first are algorithms for uninformed search -- a search that does not use knowledge about the goal of the search. In this part, you will implement both search algorithms in python and test them on a simple graph."
      ]
    },
    {
      "cell_type": "markdown",
      "metadata": {
        "id": "zwhHlz4vUkNV"
      },
      "source": [
        "### Required Code\n",
        "\n",
        "In this part, you must implement at least the following two functions. One for breadth-first search, another for depth-first search. They both take `start_state`, `goal_state`, and `successor_f` as input and return an `solution_path` as output.\n",
        "\n",
        "Here are the examples calling two search functions:\n",
        "* `solution_path = breadth_first_search(start_state, goal_state, successors_f)`\n",
        "* `solution_path = depth_first_search(start_state, goal_state, successors_f)`\n",
        "\n",
        "The variables are defined as follows:\n",
        "\n",
        "*  `start_state`: single state where search starts\n",
        "*  `goal_state`: single state that represents the goal\n",
        "*  `successors_f`: function that accepts a single argument that is a state and returns a list of states that can be reached in one step from the argument state\n",
        "* `solution_path`: returned value that is either\n",
        "   * a list of states that shows the path found from the start state to the goal state, or\n",
        "   * the string `'Goal not found'` if the search has searched everywhere without finding the goal state.\n",
        "\n",
        "If the two search functions succeed in finding the goal state, `breadth_first_search` returns the breadth-first solution path as a list of states starting with the `start_state` and ending with the `goal_state`. `depth_first_search` returns the depth-first solution path. If they do not success, they return the string `'Goal not found'`.\n",
        "\n",
        "Test your code by running them with a simple graph as shown in the following example.\n",
        "\n",
        "Feel free to test your code on other graphs you created. ***The final grading will include graphs not shown here***."
      ]
    },
    {
      "cell_type": "code",
      "execution_count": 15,
      "metadata": {
        "id": "SmawLT9JXXU7"
      },
      "outputs": [],
      "source": [
        "def breadth_first_search(start_state, goal_state, successors_f):\n",
        "    # set of visited nodes:\n",
        "    visited = set()\n",
        "    queue = [start_state]\n",
        "    parents = {start_state: None}\n",
        "\n",
        "    while(queue):\n",
        "        current = queue.pop(0)\n",
        "\n",
        "        if current == goal_state:\n",
        "            break\n",
        "\n",
        "        if current not in visited:\n",
        "            visited.add(current)\n",
        "\n",
        "        for neighbor in successors_f(current):\n",
        "            if neighbor not in visited:\n",
        "                queue.append(neighbor)\n",
        "                visited.add(neighbor)\n",
        "                parents[neighbor] = current\n",
        "\n",
        "    path = []\n",
        "    current = goal_state\n",
        "    while current is not None:\n",
        "        path.append(current)\n",
        "        current = parents[current]\n",
        "    path.reverse()\n",
        "\n",
        "    return path if path[0]==start_state else None"
      ]
    },
    {
      "cell_type": "code",
      "execution_count": 23,
      "metadata": {
        "id": "MTQFrtsjXd_L"
      },
      "outputs": [],
      "source": [
        "#STILL COOKING\n",
        "def depth_first_search(start_state, goal_state, successors_f, path=None, visited=None):\n",
        "\n",
        "    if visited is None:\n",
        "        visited=set()\n",
        "    visited.add(start_state)\n",
        "\n",
        "    if path is None:\n",
        "        path = [start_state]\n",
        "    else: \n",
        "        path = path + [start_state]\n",
        "\n",
        "    if start_state == goal_state:\n",
        "        return path\n",
        "\n",
        "    for neighbor in successors_f(start_state):\n",
        "        if neighbor not in visited:\n",
        "            result_path = depth_first_search(neighbor, goal_state, successors_f, path=path, visited=visited)\n",
        "            if result_path:\n",
        "                return result_path\n",
        "\n",
        "    return None            \n"
      ]
    },
    {
      "cell_type": "markdown",
      "metadata": {
        "id": "K61eK44SXiEc"
      },
      "source": [
        "### Example: Simple Graph\n",
        "\n",
        "Here is a simple example. States are defined by lower case letters. A dictionary stores a list of successor states for each state in the graph that has successors."
      ]
    },
    {
      "cell_type": "code",
      "execution_count": 2,
      "metadata": {
        "colab": {
          "base_uri": "https://localhost:8080/"
        },
        "id": "kdWSySvDYA3t",
        "outputId": "47df4bf8-0afc-49eb-dd79-8a89502ca1ba"
      },
      "outputs": [
        {
          "data": {
            "text/plain": [
              "{'a': ['b', 'c', 'd'],\n",
              " 'b': ['e', 'f', 'g'],\n",
              " 'c': ['a', 'h', 'i'],\n",
              " 'd': ['j', 'z'],\n",
              " 'e': ['a', 'k', 'l'],\n",
              " 'g': ['m'],\n",
              " 'k': ['z']}"
            ]
          },
          "execution_count": 2,
          "metadata": {},
          "output_type": "execute_result"
        }
      ],
      "source": [
        "successors = {'a':  ['b', 'c', 'd'],\n",
        "              'b':  ['e', 'f', 'g'],\n",
        "              'c':  ['a', 'h', 'i'],\n",
        "              'd':  ['j', 'z'],\n",
        "              'e':  ['a', 'k', 'l'],   # Watch out.  This creates the cycle a -> b -> e-> a\n",
        "              'g':  ['m'],\n",
        "              'k':  ['z']}\n",
        "successors"
      ]
    },
    {
      "cell_type": "markdown",
      "metadata": {
        "id": "1Jx-1_5JYJyv"
      },
      "source": [
        "Here is an example of a successors function that works for any search problem whose graph is explicitly represented with a successors dictionary as used in this example."
      ]
    },
    {
      "cell_type": "code",
      "execution_count": 3,
      "metadata": {
        "id": "UeyDoTKAYIp-"
      },
      "outputs": [],
      "source": [
        "def successors_f(state):\n",
        "    successors = {'a':  ['b', 'c', 'd'],\n",
        "                  'b':  ['e', 'f', 'g'],\n",
        "                  'c':  ['a', 'h', 'i'],\n",
        "                  'd':  ['j', 'z'],\n",
        "                  'e':  ['a', 'k', 'l'],   # Watch out.  This creates the cycle a -> b -> e-> a\n",
        "                  'g':  ['m'],\n",
        "                  'k':  ['z']}\n",
        "    return successors.get(state, [])"
      ]
    },
    {
      "cell_type": "code",
      "execution_count": 4,
      "metadata": {
        "colab": {
          "base_uri": "https://localhost:8080/"
        },
        "id": "Ak_-XnZPYORJ",
        "outputId": "4cfc1d72-e0f0-48ee-80ee-7eaee9b42e3b"
      },
      "outputs": [
        {
          "data": {
            "text/plain": [
              "['b', 'c', 'd']"
            ]
          },
          "execution_count": 4,
          "metadata": {},
          "output_type": "execute_result"
        }
      ],
      "source": [
        "successors_f('a')"
      ]
    },
    {
      "cell_type": "code",
      "execution_count": 6,
      "metadata": {
        "colab": {
          "base_uri": "https://localhost:8080/"
        },
        "id": "25SVpibaYRWD",
        "outputId": "953d00d1-b9ee-42db-ee04-9d8739544b08"
      },
      "outputs": [
        {
          "data": {
            "text/plain": [
              "['a', 'k', 'l']"
            ]
          },
          "execution_count": 6,
          "metadata": {},
          "output_type": "execute_result"
        }
      ],
      "source": [
        "successors_f('e')"
      ]
    },
    {
      "cell_type": "code",
      "execution_count": 7,
      "metadata": {
        "colab": {
          "base_uri": "https://localhost:8080/"
        },
        "id": "U7zJpFVdYTPY",
        "outputId": "7fde40ee-b266-423b-c98e-750c2e6e8497"
      },
      "outputs": [
        {
          "data": {
            "text/plain": [
              "[]"
            ]
          },
          "execution_count": 7,
          "metadata": {},
          "output_type": "execute_result"
        }
      ],
      "source": [
        "successors_f('q')"
      ]
    },
    {
      "cell_type": "code",
      "execution_count": 11,
      "metadata": {
        "id": "bjeYNax4YWS7"
      },
      "outputs": [
        {
          "data": {
            "text/plain": [
              "['a']"
            ]
          },
          "execution_count": 11,
          "metadata": {},
          "output_type": "execute_result"
        }
      ],
      "source": [
        "# Should return ['a']\n",
        "breadth_first_search('a', 'a', successors_f)"
      ]
    },
    {
      "cell_type": "code",
      "execution_count": 12,
      "metadata": {
        "id": "O8BVKT3KYdwD"
      },
      "outputs": [
        {
          "data": {
            "text/plain": [
              "['a', 'b']"
            ]
          },
          "execution_count": 12,
          "metadata": {},
          "output_type": "execute_result"
        }
      ],
      "source": [
        "# Should return ['a', 'b']\n",
        "breadth_first_search('a', 'b', successors_f)"
      ]
    },
    {
      "cell_type": "code",
      "execution_count": 16,
      "metadata": {
        "id": "BDXp0ppiY0rZ"
      },
      "outputs": [
        {
          "data": {
            "text/plain": [
              "['a', 'b', 'e']"
            ]
          },
          "execution_count": 16,
          "metadata": {},
          "output_type": "execute_result"
        }
      ],
      "source": [
        "# Should return ['a', 'b', 'e']\n",
        "breadth_first_search('a', 'e', successors_f)"
      ]
    },
    {
      "cell_type": "code",
      "execution_count": 17,
      "metadata": {
        "id": "v71RHMtNY8W2"
      },
      "outputs": [
        {
          "data": {
            "text/plain": [
              "['a', 'b', 'g', 'm']"
            ]
          },
          "execution_count": 17,
          "metadata": {},
          "output_type": "execute_result"
        }
      ],
      "source": [
        "# Should return ['a', 'b', 'g', 'm']\n",
        "breadth_first_search('a', 'm', successors_f)"
      ]
    },
    {
      "cell_type": "code",
      "execution_count": 18,
      "metadata": {
        "id": "kzhKSUy5ZDk6"
      },
      "outputs": [
        {
          "name": "stdout",
          "output_type": "stream",
          "text": [
            "Path from a to a: ['a']\n",
            "Path from a to b: ['a', 'b']\n",
            "Path from a to c: ['a', 'c']\n",
            "Path from a to d: ['a', 'd']\n",
            "Path from a to e: ['a', 'b', 'e']\n",
            "Path from a to f: ['a', 'b', 'f']\n",
            "Path from a to g: ['a', 'b', 'g']\n",
            "Path from a to h: ['a', 'c', 'h']\n",
            "Path from a to i: ['a', 'c', 'i']\n",
            "Path from a to j: ['a', 'd', 'j']\n",
            "Path from a to k: ['a', 'b', 'e', 'k']\n",
            "Path from a to l: ['a', 'b', 'e', 'l']\n",
            "Path from a to m: ['a', 'b', 'g', 'm']\n",
            "Path from a to z: ['a', 'd', 'z']\n"
          ]
        }
      ],
      "source": [
        "# This prints BFS paths to all the possible goals in the list.\n",
        "for goal in ['a', 'b', 'c', 'd', 'e', 'f', 'g', 'h', 'i', 'j', 'k', 'l', 'm', 'z']:\n",
        "    path = breadth_first_search('a', goal, successors_f)\n",
        "    print(f'Path from a to {goal}: {path}')\n",
        "\n",
        "# Expected output if your implementation is correct:\n",
        "# Path from a to a: ['a']\n",
        "# Path from a to b: ['a', 'b']\n",
        "# Path from a to c: ['a', 'c']\n",
        "# Path from a to d: ['a', 'd']\n",
        "# Path from a to e: ['a', 'b', 'e']\n",
        "# Path from a to f: ['a', 'b', 'f']\n",
        "# Path from a to g: ['a', 'b', 'g']\n",
        "# Path from a to h: ['a', 'c', 'h']\n",
        "# Path from a to i: ['a', 'c', 'i']\n",
        "# Path from a to j: ['a', 'd', 'j']\n",
        "# Path from a to k: ['a', 'b', 'e', 'k']\n",
        "# Path from a to l: ['a', 'b', 'e', 'l']\n",
        "# Path from a to m: ['a', 'b', 'g', 'm']\n",
        "# Path from a to z: ['a', 'd', 'z']"
      ]
    },
    {
      "cell_type": "code",
      "execution_count": 24,
      "metadata": {
        "id": "ppsxm9VXZchy"
      },
      "outputs": [
        {
          "name": "stdout",
          "output_type": "stream",
          "text": [
            "Path from a to a: ['a']\n",
            "Path from a to b: ['a', 'b']\n",
            "Path from a to c: ['a', 'c']\n",
            "Path from a to d: ['a', 'd']\n",
            "Path from a to e: ['a', 'b', 'e']\n",
            "Path from a to f: ['a', 'b', 'f']\n",
            "Path from a to g: ['a', 'b', 'g']\n",
            "Path from a to h: ['a', 'c', 'h']\n",
            "Path from a to i: ['a', 'c', 'i']\n",
            "Path from a to j: ['a', 'd', 'j']\n",
            "Path from a to k: ['a', 'b', 'e', 'k']\n",
            "Path from a to l: ['a', 'b', 'e', 'l']\n",
            "Path from a to m: ['a', 'b', 'g', 'm']\n",
            "Path from a to z: ['a', 'b', 'e', 'k', 'z']\n"
          ]
        }
      ],
      "source": [
        "# This prints DFS paths to all the possible goals in the list.\n",
        "for goal in ['a', 'b', 'c', 'd', 'e', 'f', 'g', 'h', 'i', 'j', 'k', 'l', 'm', 'z']:\n",
        "    path = depth_first_search('a', goal, successors_f)\n",
        "    print(f'Path from a to {goal}: {path}')\n",
        "\n",
        "# Expected output if your implementation is correct:\n",
        "# Path from a to a: ['a']\n",
        "# Path from a to b: ['a', 'b']\n",
        "# Path from a to c: ['a', 'c']\n",
        "# Path from a to d: ['a', 'd']\n",
        "# Path from a to e: ['a', 'b', 'e']\n",
        "# Path from a to f: ['a', 'b', 'f']\n",
        "# Path from a to g: ['a', 'b', 'g']\n",
        "# Path from a to h: ['a', 'c', 'h']\n",
        "# Path from a to i: ['a', 'c', 'i']\n",
        "# Path from a to j: ['a', 'd', 'j']\n",
        "# Path from a to k: ['a', 'b', 'e', 'k']\n",
        "# Path from a to l: ['a', 'b', 'e', 'l']\n",
        "# Path from a to m: ['a', 'b', 'g', 'm']\n",
        "# Path from a to z: ['a', 'b', 'e', 'k', 'z']"
      ]
    },
    {
      "cell_type": "markdown",
      "metadata": {
        "id": "ndBJXILXZxG8"
      },
      "source": [
        "## Part 2: Implement Informed Search - A* Search\n",
        "\n",
        "For informed search, we have a heuristic function to guide search. In this part, you will implement the A* algorithm introduced in the class."
      ]
    },
    {
      "cell_type": "markdown",
      "metadata": {
        "id": "qHqg0SkGbgKm"
      },
      "source": [
        "### Required Code\n",
        "\n",
        "In this part, we will name our A* search function `Astar_search`. It will take the four arguments: `start_state`, `actions_f`, `take_action_f`, `goal_test_f`, `h_f`, which we will describe as follows.\n",
        "\n",
        "`(solution_path, cost)` = `Astar_search(start_state, actions_f, take_action_f, goal_test_f, h_f)`\n",
        "* `start_state`: single state where search starts\n",
        "* `actions_f`: a function that accepts a single argument that is a state and returns a list of states that can be reached in one step from the argument state\n",
        "* `take_action_f`: return the state that results from applying action in state and the cost of the one step\n",
        "* `goal_test_f`: a function that test if the agent reaches the goal, returns `True` or `False`\n",
        "* `h_f`: a function that returns a heuristic value\n",
        "* `solution_path`: a list of states that shows the path found from the start state to the goal state\n",
        "* `cost`: the cost associated with the solution path you found\n",
        "\n",
        "Test your code by running them with a simple graph as shown in the following example.\n",
        "\n",
        "We will test in an eight-tile puzzle later.\n"
      ]
    },
    {
      "cell_type": "code",
      "execution_count": 38,
      "metadata": {
        "id": "QR9SEDP7h8Nv"
      },
      "outputs": [],
      "source": [
        "import heapq\n",
        "\n",
        "def Astar_search(start_state, actions_f, take_action_f, goal_test_f, h_f):\n",
        "\n",
        "    frontier = []\n",
        "    \n",
        "    # Start node with (estimated total cost, cost so far, state, path)\n",
        "    heapq.heappush(frontier, (h_f(start_state), 0, start_state, []))\n",
        "\n",
        "    # Dictionary of Explored Nodes with their current minimum cost so far:\n",
        "    explored = {str(start_state): 0}\n",
        "\n",
        "    while frontier:\n",
        "        \n",
        "        estimated_total_cost, cost_so_far, current_state, path = heapq.heappop(frontier)\n",
        "\n",
        "        if(goal_test_f(current_state)):\n",
        "            return path + [current_state], cost_so_far\n",
        "    \n",
        "        #iterate over possible actions\n",
        "        for action in actions_f(current_state):\n",
        "            new_state, step_cost = take_action_f(current_state, action)\n",
        "            new_cost_so_far = cost_so_far + step_cost\n",
        "\n",
        "            if str(new_state) not in explored or new_cost_so_far < explored[str(new_state)]:\n",
        "                explored[str(new_state)] = new_cost_so_far\n",
        "                estimated_total_cost = new_cost_so_far + h_f(new_state)\n",
        "                heapq.heappush(frontier, (estimated_total_cost, new_cost_so_far, new_state, path + [current_state]))\n",
        "\n",
        "    \n",
        "    return None, float('inf')\n",
        "\n",
        "\n"
      ]
    },
    {
      "cell_type": "markdown",
      "metadata": {
        "id": "5-dqH_QoiFN4"
      },
      "source": [
        "### Example: Simple Graph\n",
        "\n",
        "Here is a simple example using our usual simple graph search."
      ]
    },
    {
      "cell_type": "code",
      "execution_count": 2,
      "metadata": {
        "id": "Ulqyy2c0iL5w"
      },
      "outputs": [],
      "source": [
        "def actions_simple(state):\n",
        "    succs = {'a': ['b', 'c'], 'b':['a'], 'c':['h'], 'h':['i'], 'i':['j', 'k', 'l'], 'k':['z']}\n",
        "    return [(s, 1) for s in succs.get(state, [])]\n",
        "\n",
        "def take_action_simple(state, action):\n",
        "    return action\n",
        "\n",
        "def goal_test_simple(state, goal):\n",
        "    return state == goal\n",
        "\n",
        "def h_simple(state, goal):\n",
        "    return 1"
      ]
    },
    {
      "cell_type": "code",
      "execution_count": 16,
      "metadata": {
        "colab": {
          "base_uri": "https://localhost:8080/"
        },
        "id": "7BUzruO3iMss",
        "outputId": "7aba6ef8-b341-4d5c-ba2c-963540f445af"
      },
      "outputs": [
        {
          "data": {
            "text/plain": [
              "[('b', 1), ('c', 1)]"
            ]
          },
          "execution_count": 16,
          "metadata": {},
          "output_type": "execute_result"
        }
      ],
      "source": [
        "actions = actions_simple('a')\n",
        "actions"
      ]
    },
    {
      "cell_type": "code",
      "execution_count": 4,
      "metadata": {
        "colab": {
          "base_uri": "https://localhost:8080/"
        },
        "id": "iBUplN2TiQUI",
        "outputId": "3f48bee9-eb6f-4029-aab2-89d9e9d90e69"
      },
      "outputs": [
        {
          "data": {
            "text/plain": [
              "('b', 1)"
            ]
          },
          "execution_count": 4,
          "metadata": {},
          "output_type": "execute_result"
        }
      ],
      "source": [
        "take_action_simple('a', actions[0])"
      ]
    },
    {
      "cell_type": "code",
      "execution_count": 5,
      "metadata": {
        "colab": {
          "base_uri": "https://localhost:8080/"
        },
        "id": "8oZSrdY-iSIG",
        "outputId": "d6c42097-54c6-4b9f-c56a-24070afff559"
      },
      "outputs": [
        {
          "data": {
            "text/plain": [
              "True"
            ]
          },
          "execution_count": 5,
          "metadata": {},
          "output_type": "execute_result"
        }
      ],
      "source": [
        "goal_test_simple('a', 'a')"
      ]
    },
    {
      "cell_type": "code",
      "execution_count": 6,
      "metadata": {
        "colab": {
          "base_uri": "https://localhost:8080/"
        },
        "id": "wwrknoBpiUgR",
        "outputId": "10698155-85c9-4fd1-8a98-51744f93c676"
      },
      "outputs": [
        {
          "data": {
            "text/plain": [
              "1"
            ]
          },
          "execution_count": 6,
          "metadata": {},
          "output_type": "execute_result"
        }
      ],
      "source": [
        "h_simple('a', 'z')"
      ]
    },
    {
      "cell_type": "code",
      "execution_count": 36,
      "metadata": {
        "id": "Wd92CrdYiW_c"
      },
      "outputs": [
        {
          "data": {
            "text/plain": [
              "(['a', 'c', 'h', 'i', 'k', 'z'], 5)"
            ]
          },
          "execution_count": 36,
          "metadata": {},
          "output_type": "execute_result"
        }
      ],
      "source": [
        "# Should return (['a', 'c', 'h', 'i', 'k', 'z'], 5)\n",
        "Astar_search('a',actions_simple, take_action_simple,\n",
        "            lambda s: goal_test_simple(s, 'z'),\n",
        "            lambda s: h_simple(s, 'z'))"
      ]
    },
    {
      "cell_type": "markdown",
      "metadata": {
        "id": "RTrI9tUcjWAY"
      },
      "source": [
        "### Solve 8-Tile Puzzle with A*\n",
        "\n",
        "Now, we can apply the A* algorithm to an eight-tile puzzle.\n",
        "\n",
        "For example, we can have a start state like this:\n",
        "\\begin{matrix}\n",
        "1 & 2 & 3 \\\\\n",
        "4 & 0 & 5 \\\\\n",
        "6 & 7 & 8\n",
        "\\end{matrix}\n",
        "In python, we will represent this using a list `[1, 2, 3, 4, 0, 5, 6, 7, 8] `\n",
        "\n",
        "We can have a goal state like this:\n",
        "\\begin{matrix}\n",
        "1 & 2 & 3 \\\\\n",
        "4 & 5 & 8 \\\\\n",
        "6 & 0 & 7\n",
        "\\end{matrix}\n",
        "In python, we will represent this using a list `[1, 2, 3, 4, 5, 8, 6, 0, 7]`"
      ]
    },
    {
      "cell_type": "markdown",
      "metadata": {
        "id": "P-shRg2BqL8F"
      },
      "source": [
        "### Required Code\n",
        "\n",
        "To solve eight-tile puzzle, you will need to implement all the `_f` functions yourself.\n",
        "\n",
        "* `actions_8p(state)`: returns a list of up to four valid actions that can be applied in state. With each action include a step cost of 1. For example, if all four actions are possible from this state, return `[('left', 1), ('right', 1), ('up', 1), ('down', 1)]`.\n",
        "* `take_action_8p(state, action)`: return the state that results from applying action in state and the cost of the one step\n",
        "* `h_8p(state, goal)`: a heuristic function of your own choice. We talked about misplaced tiles or Manhattan distance. You can also invent a new one!\n",
        "\n",
        "We will provide a goal test function for you."
      ]
    },
    {
      "cell_type": "code",
      "execution_count": 26,
      "metadata": {
        "id": "5kmAsc3Bo_y7"
      },
      "outputs": [],
      "source": [
        "def actions_8p(state):\n",
        "    # brute force check eveyr position approach, could be better but its fine for now\n",
        "    if state[4] == 0:\n",
        "        return [('left', 1), ('right', 1), ('up', 1), ('down',1)]\n",
        "    elif state[0] == 0:\n",
        "        return [('down',1), ('right',1)]\n",
        "    elif state[1] == 0:\n",
        "        return [('down',1), ('left',1), ('right',1)]\n",
        "    elif state[2] == 0:\n",
        "        return [('down',1), ('left',1)]\n",
        "    elif state[3] == 0:\n",
        "        return [('up', 1), ('down', 1), ('right', 1)]\n",
        "    elif state[5] == 0:\n",
        "        return [('up', 1), ('down', 1), ('left', 1)]\n",
        "    elif state[6] == 0:\n",
        "        return [('up',1), ('right',1)]\n",
        "    elif state[7] == 0:\n",
        "        return [('up',1), ('left',1), ('right',1)]\n",
        "    elif state[8] == 0:\n",
        "        return [('up',1), ('left',1)]"
      ]
    },
    {
      "cell_type": "code",
      "execution_count": 32,
      "metadata": {
        "id": "PDe41Sz6pEe9"
      },
      "outputs": [],
      "source": [
        "def take_action_8p(state, action):\n",
        "\n",
        "    direction, cost = action\n",
        "    zero_index = state.index(0)\n",
        "\n",
        "    if direction==\"up\":\n",
        "        new_index = zero_index-3\n",
        "    elif direction==\"down\":\n",
        "        new_index = zero_index+3\n",
        "    elif direction==\"left\":\n",
        "        new_index = zero_index-1\n",
        "    elif direction==\"right\":\n",
        "        new_index = zero_index+1\n",
        "    else: \n",
        "        raise ValueError(\"Invalid Direction\")\n",
        "\n",
        "    new_state = state.copy()\n",
        "    new_state[zero_index], new_state[new_index] = new_state[new_index], new_state[zero_index]\n",
        "\n",
        "    return new_state, cost\n",
        "\n"
      ]
    },
    {
      "cell_type": "code",
      "execution_count": 28,
      "metadata": {
        "id": "RXytHNOppJ2c"
      },
      "outputs": [],
      "source": [
        "def h_8p(state, goal):\n",
        "    \n",
        "    count_misplaced = 0\n",
        "\n",
        "    for i in range(0, len(state)):\n",
        "        if state[i] != goal[i]:\n",
        "            count_misplaced+=1\n",
        "\n",
        "    return count_misplaced"
      ]
    },
    {
      "cell_type": "code",
      "execution_count": 29,
      "metadata": {
        "id": "MkjhkTZjo6Ld"
      },
      "outputs": [],
      "source": [
        "def goal_test_8p(state, goal):\n",
        "    return state == goal"
      ]
    },
    {
      "cell_type": "code",
      "execution_count": 30,
      "metadata": {
        "id": "HqIKqNNDps_R"
      },
      "outputs": [
        {
          "data": {
            "text/plain": [
              "[('up', 1), ('left', 1), ('right', 1)]"
            ]
          },
          "execution_count": 30,
          "metadata": {},
          "output_type": "execute_result"
        }
      ],
      "source": [
        "# Should return [('left', 1), ('right', 1), ('up', 1)]\n",
        "actions_8p([1, 2, 3, 4, 5, 6, 7, 0, 8])"
      ]
    },
    {
      "cell_type": "code",
      "execution_count": 33,
      "metadata": {
        "id": "zoAmuXeopscj"
      },
      "outputs": [
        {
          "data": {
            "text/plain": [
              "([1, 2, 3, 4, 0, 6, 7, 5, 8], 1)"
            ]
          },
          "execution_count": 33,
          "metadata": {},
          "output_type": "execute_result"
        }
      ],
      "source": [
        "# Should return ([1, 2, 3, 4, 0, 6, 7, 5, 8], 1)\n",
        "take_action_8p([1, 2, 3, 4, 5, 6, 7, 0, 8], ('up', 1))"
      ]
    },
    {
      "cell_type": "code",
      "execution_count": 39,
      "metadata": {
        "id": "rtoYNYBKpaiz"
      },
      "outputs": [
        {
          "data": {
            "text/plain": [
              "([[1, 2, 3, 4, 5, 6, 7, 0, 8],\n",
              "  [1, 2, 3, 4, 0, 6, 7, 5, 8],\n",
              "  [1, 2, 3, 0, 4, 6, 7, 5, 8],\n",
              "  [0, 2, 3, 1, 4, 6, 7, 5, 8]],\n",
              " 3)"
            ]
          },
          "execution_count": 39,
          "metadata": {},
          "output_type": "execute_result"
        }
      ],
      "source": [
        "# Should return ([[1, 2, 3, 4, 5, 6, 7, 0, 8], [1, 2, 3, 4, 0, 6, 7, 5, 8], [1, 2, 3, 0, 4, 6, 7, 5, 8], [0, 2, 3, 1, 4, 6, 7, 5, 8]], 3)\n",
        "Astar_search([1, 2, 3, 4, 5, 6, 7, 0, 8],\n",
        "             actions_8p, take_action_8p,\n",
        "             lambda s: goal_test_8p(s, [0, 2, 3, 1, 4,  6, 7, 5, 8]),\n",
        "             lambda s: h_8p(s, [0, 2, 3, 1, 4,  6, 7, 5, 8]))"
      ]
    },
    {
      "cell_type": "markdown",
      "metadata": {
        "id": "WyrIf6HgqD6t"
      },
      "source": [
        "## Final: Submission\n",
        "\n",
        "Congratulations!\n",
        "\n",
        "Please download this nodebook as a `.ipynb` file and upload to Canvas."
      ]
    }
  ],
  "metadata": {
    "colab": {
      "provenance": []
    },
    "kernelspec": {
      "display_name": "Python 3",
      "name": "python3"
    },
    "language_info": {
      "codemirror_mode": {
        "name": "ipython",
        "version": 3
      },
      "file_extension": ".py",
      "mimetype": "text/x-python",
      "name": "python",
      "nbconvert_exporter": "python",
      "pygments_lexer": "ipython3",
      "version": "3.12.2"
    }
  },
  "nbformat": 4,
  "nbformat_minor": 0
}
